{
 "cells": [
  {
   "cell_type": "markdown",
   "id": "f9d87b49",
   "metadata": {},
   "source": [
    "# Arnoldi Iteration"
   ]
  },
  {
   "cell_type": "code",
   "execution_count": 1,
   "id": "a6b690b1",
   "metadata": {},
   "outputs": [],
   "source": [
    "import numpy as np\n",
    "import scipy.sparse as sp\n",
    "import scipy.linalg\n",
    "import matplotlib.pyplot as plt\n",
    "\n",
    "%matplotlib inline"
   ]
  },
  {
   "cell_type": "code",
   "execution_count": 2,
   "id": "cfda5b12",
   "metadata": {},
   "outputs": [
    {
     "name": "stdout",
     "output_type": "stream",
     "text": [
      "[ 1.  2.  3.  4.  5.  6.  7.  8.  9. 10. 11. 12. 13. 14. 15. 16. 17. 18.\n",
      " 19. 20. 21. 22. 23. 24. 25.]\n",
      "[25. 24. 23.  1.  2.  3. 22.  4. 21. 20.  5.  6.  7. 19. 18.  8.  9. 17.\n",
      " 16. 10. 11. 12. 15. 14. 13.]\n"
     ]
    }
   ],
   "source": [
    "np.random.seed(40)\n",
    "\n",
    "# Generate matrix with eigenvalues 1...25\n",
    "n = 25\n",
    "eigvals = np.linspace(1., n, n)\n",
    "eigvecs = np.random.randn(n, n)\n",
    "print(eigvals)\n",
    "\n",
    "A = np.linalg.solve(eigvecs, np.dot(np.diag(eigvals), eigvecs))\n",
    "print(np.linalg.eig(A)[0])"
   ]
  },
  {
   "cell_type": "code",
   "execution_count": 3,
   "id": "0b4de1e1",
   "metadata": {},
   "outputs": [
    {
     "data": {
      "text/plain": [
       "array([ 1.,  2.,  3.,  4.,  5.,  6.,  7.,  8.,  9., 10., 11., 12., 13.,\n",
       "       14., 15., 16., 17., 18., 19., 20., 21., 22., 23., 24., 25.])"
      ]
     },
     "execution_count": 3,
     "metadata": {},
     "output_type": "execute_result"
    }
   ],
   "source": [
    "np.diag(eigvecs @ A @ np.linalg.inv(eigvecs))"
   ]
  },
  {
   "cell_type": "markdown",
   "id": "a63672ec",
   "metadata": {},
   "source": [
    "# Initialization"
   ]
  },
  {
   "cell_type": "code",
   "execution_count": 4,
   "id": "e1a95c1f",
   "metadata": {},
   "outputs": [],
   "source": [
    "Q = np.zeros((n, n))\n",
    "H = np.zeros((n, n))\n",
    "\n",
    "k = 0"
   ]
  },
  {
   "cell_type": "code",
   "execution_count": 5,
   "id": "9e120b22",
   "metadata": {},
   "outputs": [],
   "source": [
    "x0 = np.random.randn(n)\n",
    "x0 = x0 / np.linalg.norm(x0)\n",
    "\n",
    "Q[:, k] = x0\n",
    "\n",
    "del x0"
   ]
  },
  {
   "cell_type": "markdown",
   "id": "27a89a2d",
   "metadata": {},
   "source": [
    "# Algorithm"
   ]
  },
  {
   "cell_type": "code",
   "execution_count": 32,
   "id": "9cb208fd",
   "metadata": {},
   "outputs": [
    {
     "name": "stdout",
     "output_type": "stream",
     "text": [
      "24\n"
     ]
    },
    {
     "data": {
      "text/plain": [
       "<matplotlib.image.AxesImage at 0x283eba93d60>"
      ]
     },
     "execution_count": 32,
     "metadata": {},
     "output_type": "execute_result"
    },
    {
     "data": {
      "image/png": "[encoded data removed]",
      "text/plain": [
       "<Figure size 432x288 with 1 Axes>"
      ]
     },
     "metadata": {
      "needs_background": "light"
     },
     "output_type": "display_data"
    }
   ],
   "source": [
    "print(k)\n",
    "\n",
    "u = A @ Q[:, k]\n",
    "\n",
    "for j in range(k+1):\n",
    "    qj = Q[:, j]\n",
    "    H[j, k] = qj @ u\n",
    "    u = u - H[j,k]*qj\n",
    "    \n",
    "if k+1 < n:\n",
    "    H[k+1, k] = np.linalg.norm(u)\n",
    "    Q[:,k+1] = u / H[k+1, k]\n",
    "    \n",
    "k += 1\n",
    "\n",
    "plt.spy(H)"
   ]
  },
  {
   "cell_type": "code",
   "execution_count": 33,
   "id": "d5bc9516",
   "metadata": {},
   "outputs": [
    {
     "data": {
      "text/plain": [
       "7.234565184584843e-08"
      ]
     },
     "execution_count": 33,
     "metadata": {},
     "output_type": "execute_result"
    }
   ],
   "source": [
    "np.linalg.norm(Q.T @ Q - np.eye(n))"
   ]
  },
  {
   "cell_type": "code",
   "execution_count": 34,
   "id": "1dd56021",
   "metadata": {},
   "outputs": [
    {
     "data": {
      "text/plain": [
       "7.038493605756981e-06"
      ]
     },
     "execution_count": 34,
     "metadata": {},
     "output_type": "execute_result"
    }
   ],
   "source": [
    "np.linalg.norm(Q.T @ A @ Q - H)"
   ]
  },
  {
   "cell_type": "code",
   "execution_count": null,
   "id": "124d5b14",
   "metadata": {},
   "outputs": [],
   "source": []
  }
 ],
 "metadata": {
  "kernelspec": {
   "display_name": "Python 3",
   "language": "python",
   "name": "python3"
  },
  "language_info": {
   "codemirror_mode": {
    "name": "ipython",
    "version": 3
   },
   "file_extension": ".py",
   "mimetype": "text/x-python",
   "name": "python",
   "nbconvert_exporter": "python",
   "pygments_lexer": "ipython3",
   "version": "3.8.8"
  }
 },
 "nbformat": 4,
 "nbformat_minor": 5
}
