{
 "cells": [
  {
   "cell_type": "markdown",
   "id": "bec435c0",
   "metadata": {},
   "source": [
    "# Original QR factorization"
   ]
  },
  {
   "cell_type": "code",
   "execution_count": 1,
   "id": "eb8add27",
   "metadata": {},
   "outputs": [],
   "source": [
    "import numpy as np"
   ]
  },
  {
   "cell_type": "code",
   "execution_count": 2,
   "id": "f71c6348",
   "metadata": {},
   "outputs": [],
   "source": [
    "A = np.random.random((5,3))"
   ]
  },
  {
   "cell_type": "code",
   "execution_count": 3,
   "id": "d894c427",
   "metadata": {},
   "outputs": [],
   "source": [
    "q, r = np.linalg.qr(A)"
   ]
  },
  {
   "cell_type": "code",
   "execution_count": 4,
   "id": "f46e11e6",
   "metadata": {},
   "outputs": [
    {
     "data": {
      "text/plain": [
       "array([[-0.78334735,  0.43098466,  0.05420773],\n",
       "       [-0.11436008, -0.68269327,  0.1249882 ],\n",
       "       [-0.10138237,  0.0486264 , -0.92736328],\n",
       "       [-0.01353576, -0.40109645, -0.34147035],\n",
       "       [-0.60235131, -0.43004563,  0.06953285]])"
      ]
     },
     "execution_count": 4,
     "metadata": {},
     "output_type": "execute_result"
    }
   ],
   "source": [
    "q"
   ]
  },
  {
   "cell_type": "code",
   "execution_count": 5,
   "id": "a99bd465",
   "metadata": {},
   "outputs": [
    {
     "data": {
      "text/plain": [
       "array([[-1.24466698, -0.63568048, -0.55188147],\n",
       "       [ 0.        , -0.63489161, -0.43138699],\n",
       "       [ 0.        ,  0.        , -0.5533442 ]])"
      ]
     },
     "execution_count": 5,
     "metadata": {},
     "output_type": "execute_result"
    }
   ],
   "source": [
    "r"
   ]
  },
  {
   "cell_type": "code",
   "execution_count": 6,
   "id": "96751dde",
   "metadata": {},
   "outputs": [],
   "source": [
    "q, r = np.linalg.qr(A, mode='complete')"
   ]
  },
  {
   "cell_type": "code",
   "execution_count": 7,
   "id": "6499ce37",
   "metadata": {},
   "outputs": [
    {
     "data": {
      "text/plain": [
       "array([[-0.78334735,  0.43098466,  0.05420773,  0.14677336, -0.41968828],\n",
       "       [-0.11436008, -0.68269327,  0.1249882 , -0.37624244, -0.60305162],\n",
       "       [-0.10138237,  0.0486264 , -0.92736328, -0.35682661, -0.00540414],\n",
       "       [-0.01353576, -0.40109645, -0.34147035,  0.83872132, -0.13741532],\n",
       "       [-0.60235131, -0.43004563,  0.06953285, -0.07823377,  0.66428783]])"
      ]
     },
     "execution_count": 7,
     "metadata": {},
     "output_type": "execute_result"
    }
   ],
   "source": [
    "q"
   ]
  },
  {
   "cell_type": "code",
   "execution_count": 8,
   "id": "07ba972d",
   "metadata": {},
   "outputs": [
    {
     "data": {
      "text/plain": [
       "array([[-1.24466698, -0.63568048, -0.55188147],\n",
       "       [ 0.        , -0.63489161, -0.43138699],\n",
       "       [ 0.        ,  0.        , -0.5533442 ],\n",
       "       [ 0.        ,  0.        ,  0.        ],\n",
       "       [ 0.        ,  0.        ,  0.        ]])"
      ]
     },
     "execution_count": 8,
     "metadata": {},
     "output_type": "execute_result"
    }
   ],
   "source": [
    "r"
   ]
  },
  {
   "cell_type": "markdown",
   "id": "878addf9",
   "metadata": {},
   "source": [
    "# Gram-Schmidt Column Pivoting"
   ]
  },
  {
   "cell_type": "code",
   "execution_count": 9,
   "id": "a7580a6f",
   "metadata": {},
   "outputs": [],
   "source": [
    "def qr_pivoting(A):\n",
    "    \n",
    "    n, m = A.shape\n",
    "    q = np.zeros((n, m))\n",
    "    r = np.zeros((m, m))\n",
    "    \n",
    "    for j in range(m):\n",
    "        i = np.argmax(np.linalg.norm(A, 2, axis=0))\n",
    "        qj = A[:, i] / np.linalg.norm(A[:, i], 2)\n",
    "        q[:, j] = qj\n",
    "        rj = qj.T @ A\n",
    "        r[j, :] = rj\n",
    "        A = A - qj[:, np.newaxis] @ rj[np.newaxis, :]\n",
    "    \n",
    "    return q, r"
   ]
  },
  {
   "cell_type": "code",
   "execution_count": 10,
   "id": "a75784de",
   "metadata": {},
   "outputs": [],
   "source": [
    "q, r = qr_pivoting(A)"
   ]
  },
  {
   "cell_type": "code",
   "execution_count": 11,
   "id": "a8b28584",
   "metadata": {},
   "outputs": [
    {
     "data": {
      "text/plain": [
       "array([[ 0.78334735, -0.30773589, -0.30656953],\n",
       "       [ 0.11436008,  0.32117145,  0.61525689],\n",
       "       [ 0.10138237,  0.70147279, -0.60852536],\n",
       "       [ 0.01353576,  0.51591077,  0.10637876],\n",
       "       [ 0.60235131,  0.20956987,  0.38190906]])"
      ]
     },
     "execution_count": 11,
     "metadata": {},
     "output_type": "execute_result"
    }
   ],
   "source": [
    "q"
   ]
  },
  {
   "cell_type": "code",
   "execution_count": 12,
   "id": "03e6bb30",
   "metadata": {},
   "outputs": [
    {
     "data": {
      "text/plain": [
       "array([[1.24466698e+00, 6.35680481e-01, 5.51881473e-01],\n",
       "       [0.00000000e+00, 3.90353912e-01, 7.01629915e-01],\n",
       "       [0.00000000e+00, 5.00710672e-01, 1.44142213e-17]])"
      ]
     },
     "execution_count": 12,
     "metadata": {},
     "output_type": "execute_result"
    }
   ],
   "source": [
    "r"
   ]
  },
  {
   "cell_type": "code",
   "execution_count": 13,
   "id": "1e590fc9",
   "metadata": {},
   "outputs": [
    {
     "data": {
      "text/plain": [
       "array([[0.97500658, 0.22433008, 0.21639818],\n",
       "       [0.14234022, 0.5061327 , 0.28845671],\n",
       "       [0.12618728, 0.0335743 , 0.54812534],\n",
       "       [0.01684752, 0.26325719, 0.36944856],\n",
       "       [0.74972678, 0.65593533, 0.47946702]])"
      ]
     },
     "execution_count": 13,
     "metadata": {},
     "output_type": "execute_result"
    }
   ],
   "source": [
    "A"
   ]
  },
  {
   "cell_type": "code",
   "execution_count": 14,
   "id": "45c08d05",
   "metadata": {},
   "outputs": [
    {
     "data": {
      "text/plain": [
       "array([[ 1.00000000e+00, -4.83733358e-17, -1.08145074e-16],\n",
       "       [-4.83733358e-17,  1.00000000e+00, -9.41471666e-17],\n",
       "       [-1.08145074e-16, -9.41471666e-17,  1.00000000e+00]])"
      ]
     },
     "execution_count": 14,
     "metadata": {},
     "output_type": "execute_result"
    }
   ],
   "source": [
    "q.T @ q"
   ]
  },
  {
   "cell_type": "code",
   "execution_count": null,
   "id": "f1a56f6b",
   "metadata": {},
   "outputs": [],
   "source": []
  }
 ],
 "metadata": {
  "kernelspec": {
   "display_name": "Python 3",
   "language": "python",
   "name": "python3"
  },
  "language_info": {
   "codemirror_mode": {
    "name": "ipython",
    "version": 3
   },
   "file_extension": ".py",
   "mimetype": "text/x-python",
   "name": "python",
   "nbconvert_exporter": "python",
   "pygments_lexer": "ipython3",
   "version": "3.8.8"
  }
 },
 "nbformat": 4,
 "nbformat_minor": 5
}
