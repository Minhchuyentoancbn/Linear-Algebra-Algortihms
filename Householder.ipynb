{
 "cells": [
  {
   "cell_type": "markdown",
   "id": "3cb378b3",
   "metadata": {},
   "source": [
    "# QR Factorization using Householder's Reflection"
   ]
  },
  {
   "cell_type": "code",
   "execution_count": 1,
   "id": "cdb190a5",
   "metadata": {},
   "outputs": [],
   "source": [
    "import numpy as np"
   ]
  },
  {
   "cell_type": "code",
   "execution_count": 2,
   "id": "485fb993",
   "metadata": {},
   "outputs": [],
   "source": [
    "A = np.random.rand(100, 100)"
   ]
  },
  {
   "cell_type": "code",
   "execution_count": 3,
   "id": "e068178e",
   "metadata": {},
   "outputs": [
    {
     "data": {
      "text/plain": [
       "array([[0.72798224, 0.51885804, 0.94811842, ..., 0.99839576, 0.1868386 ,\n",
       "        0.75734292],\n",
       "       [0.31695615, 0.72312502, 0.37719169, ..., 0.46483308, 0.73714098,\n",
       "        0.3899721 ],\n",
       "       [0.68805059, 0.94377712, 0.65182093, ..., 0.04899381, 0.31859145,\n",
       "        0.12378684],\n",
       "       ...,\n",
       "       [0.219637  , 0.64890156, 0.31687846, ..., 0.33828024, 0.48662042,\n",
       "        0.67259646],\n",
       "       [0.56682626, 0.68616931, 0.01613934, ..., 0.41188597, 0.22295755,\n",
       "        0.05977781],\n",
       "       [0.11361736, 0.86367671, 0.9653844 , ..., 0.49225671, 0.3641489 ,\n",
       "        0.5132201 ]])"
      ]
     },
     "execution_count": 3,
     "metadata": {},
     "output_type": "execute_result"
    }
   ],
   "source": [
    "A"
   ]
  },
  {
   "cell_type": "code",
   "execution_count": 4,
   "id": "52613725",
   "metadata": {},
   "outputs": [],
   "source": [
    "def householder(A: np.ndarray):\n",
    "    \"\"\"QR factorization using Householder's reflection for square matrices\"\"\"\n",
    "    \n",
    "    n = A.shape[0]\n",
    "    QT = np.identity(n)\n",
    "    R = np.zeros((n, n))\n",
    "    \n",
    "    for k in range(n-1):\n",
    "        H = np.identity(n)\n",
    "        \n",
    "        \n",
    "        a_lower = A[k:, k]\n",
    "        a_lower_norm = np.linalg.norm(a_lower)\n",
    "        \n",
    "        R[:k, k] = A[:k ,k]\n",
    "        R[k ,k] = a_lower_norm\n",
    "        \n",
    "        r_lower = np.zeros_like(a_lower)\n",
    "        r_lower[0] = a_lower_norm\n",
    "        \n",
    "        v = a_lower - r_lower\n",
    "        v = v / np.linalg.norm(v)  # Normalize v\n",
    "        \n",
    "        H_lower = np.identity(n - k) - 2 * v[:, np.newaxis] @ v[np.newaxis, :] # H = I - 2 v @ v.T\n",
    "        \n",
    "\n",
    "        H[k:, k:] = H_lower\n",
    "        A = H @ A\n",
    "        QT = H @ QT\n",
    "    \n",
    "    R[:, -1] = A[:, -1]\n",
    "    return QT.T, R"
   ]
  },
  {
   "cell_type": "code",
   "execution_count": 5,
   "id": "8bb95645",
   "metadata": {},
   "outputs": [
    {
     "name": "stdout",
     "output_type": "stream",
     "text": [
      "Wall time: 49.4 ms\n"
     ]
    }
   ],
   "source": [
    "%%time\n",
    "q, r = householder(A)"
   ]
  },
  {
   "cell_type": "code",
   "execution_count": 6,
   "id": "a8a4aa35",
   "metadata": {},
   "outputs": [
    {
     "data": {
      "text/plain": [
       "array([[ 0.13879368, -0.04996001,  0.13991244, ...,  0.10688638,\n",
       "        -0.01499256, -0.13630815],\n",
       "       [ 0.06042937,  0.11466522, -0.02095144, ..., -0.15129406,\n",
       "         0.04290769,  0.08822906],\n",
       "       [ 0.1311805 ,  0.07716986, -0.00925654, ..., -0.08955497,\n",
       "         0.117923  , -0.05363377],\n",
       "       ...,\n",
       "       [ 0.04187496,  0.12001045, -0.01800007, ...,  0.00888476,\n",
       "        -0.22050112, -0.00339839],\n",
       "       [ 0.10806844,  0.03851682, -0.15901512, ...,  0.01554659,\n",
       "        -0.07228845,  0.12282015],\n",
       "       [ 0.02166175,  0.20694388,  0.16860517, ..., -0.13551087,\n",
       "         0.0603657 , -0.0493545 ]])"
      ]
     },
     "execution_count": 6,
     "metadata": {},
     "output_type": "execute_result"
    }
   ],
   "source": [
    "q"
   ]
  },
  {
   "cell_type": "code",
   "execution_count": 7,
   "id": "7b248155",
   "metadata": {},
   "outputs": [
    {
     "data": {
      "text/plain": [
       "array([[ 5.24506747,  5.05033309,  4.22732265, ...,  4.43530189,\n",
       "         4.30472334,  4.13520484],\n",
       "       [ 0.        ,  3.6448414 ,  1.64068191, ...,  1.70429858,\n",
       "         1.88244175,  1.90444288],\n",
       "       [ 0.        ,  0.        ,  3.1688476 , ...,  1.49236697,\n",
       "         0.57709206,  1.12913269],\n",
       "       ...,\n",
       "       [ 0.        ,  0.        ,  0.        , ...,  0.62364113,\n",
       "         0.04181049,  0.27673447],\n",
       "       [ 0.        ,  0.        ,  0.        , ...,  0.        ,\n",
       "         0.16972205, -0.01493076],\n",
       "       [ 0.        ,  0.        ,  0.        , ...,  0.        ,\n",
       "         0.        ,  0.00590068]])"
      ]
     },
     "execution_count": 7,
     "metadata": {},
     "output_type": "execute_result"
    }
   ],
   "source": [
    "r"
   ]
  },
  {
   "cell_type": "markdown",
   "id": "e6ee5eb6",
   "metadata": {},
   "source": [
    "# Original QR using NumPy"
   ]
  },
  {
   "cell_type": "code",
   "execution_count": 8,
   "id": "f566fd8c",
   "metadata": {},
   "outputs": [
    {
     "name": "stdout",
     "output_type": "stream",
     "text": [
      "Wall time: 33.8 ms\n"
     ]
    }
   ],
   "source": [
    "%%time\n",
    "q, r = np.linalg.qr(A)"
   ]
  },
  {
   "cell_type": "code",
   "execution_count": 9,
   "id": "3987e1e6",
   "metadata": {},
   "outputs": [
    {
     "data": {
      "text/plain": [
       "array([[-0.13879368,  0.04996001,  0.13991244, ..., -0.10688638,\n",
       "        -0.01499256,  0.13630815],\n",
       "       [-0.06042937, -0.11466522, -0.02095144, ...,  0.15129406,\n",
       "         0.04290769, -0.08822906],\n",
       "       [-0.1311805 , -0.07716986, -0.00925654, ...,  0.08955497,\n",
       "         0.117923  ,  0.05363377],\n",
       "       ...,\n",
       "       [-0.04187496, -0.12001045, -0.01800007, ..., -0.00888476,\n",
       "        -0.22050112,  0.00339839],\n",
       "       [-0.10806844, -0.03851682, -0.15901512, ..., -0.01554659,\n",
       "        -0.07228845, -0.12282015],\n",
       "       [-0.02166175, -0.20694388,  0.16860517, ...,  0.13551087,\n",
       "         0.0603657 ,  0.0493545 ]])"
      ]
     },
     "execution_count": 9,
     "metadata": {},
     "output_type": "execute_result"
    }
   ],
   "source": [
    "q"
   ]
  },
  {
   "cell_type": "code",
   "execution_count": 10,
   "id": "3c6f812e",
   "metadata": {},
   "outputs": [
    {
     "data": {
      "text/plain": [
       "array([[-5.24506747, -5.05033309, -4.22732265, ..., -4.43530189,\n",
       "        -4.30472334, -4.13520484],\n",
       "       [ 0.        , -3.6448414 , -1.64068191, ..., -1.70429858,\n",
       "        -1.88244175, -1.90444288],\n",
       "       [ 0.        ,  0.        ,  3.1688476 , ...,  1.49236697,\n",
       "         0.57709206,  1.12913269],\n",
       "       ...,\n",
       "       [ 0.        ,  0.        ,  0.        , ..., -0.62364113,\n",
       "        -0.04181049, -0.27673447],\n",
       "       [ 0.        ,  0.        ,  0.        , ...,  0.        ,\n",
       "         0.16972205, -0.01493076],\n",
       "       [ 0.        ,  0.        ,  0.        , ...,  0.        ,\n",
       "         0.        , -0.00590068]])"
      ]
     },
     "execution_count": 10,
     "metadata": {},
     "output_type": "execute_result"
    }
   ],
   "source": [
    "r"
   ]
  },
  {
   "cell_type": "code",
   "execution_count": null,
   "id": "dd495af1",
   "metadata": {},
   "outputs": [],
   "source": []
  }
 ],
 "metadata": {
  "kernelspec": {
   "display_name": "Python 3",
   "language": "python",
   "name": "python3"
  },
  "language_info": {
   "codemirror_mode": {
    "name": "ipython",
    "version": 3
   },
   "file_extension": ".py",
   "mimetype": "text/x-python",
   "name": "python",
   "nbconvert_exporter": "python",
   "pygments_lexer": "ipython3",
   "version": "3.8.8"
  }
 },
 "nbformat": 4,
 "nbformat_minor": 5
}
